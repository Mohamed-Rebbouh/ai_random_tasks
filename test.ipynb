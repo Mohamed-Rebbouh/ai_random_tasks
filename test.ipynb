{
 "cells": [
  {
   "cell_type": "code",
   "execution_count": 1,
   "metadata": {},
   "outputs": [],
   "source": [
    "from Linear_regression import Linear_regression \n",
    "import numpy as np\n"
   ]
  },
  {
   "cell_type": "code",
   "execution_count": 4,
   "metadata": {},
   "outputs": [
    {
     "name": "stdout",
     "output_type": "stream",
     "text": [
      "Epoch 0, Loss: 15.925599999999998\n",
      "Epoch 50, Loss: 0.26309750224150663\n",
      "Epoch 100, Loss: 39.97057299652342\n",
      "Epoch 150, Loss: 1430.4012446899937\n",
      "Epoch 200, Loss: 42763.95436326419\n",
      "Epoch 250, Loss: 1239079.9777046747\n",
      "Epoch 300, Loss: 35695764.35510869\n",
      "Epoch 350, Loss: 1027231292.8991865\n",
      "Epoch 400, Loss: 29555138108.76457\n",
      "Epoch 450, Loss: 850318373690.8141\n",
      "Best params - w = 1.1211242343650274, b = 1.8283510598177861, Loss: 0.06610016156649776\n"
     ]
    }
   ],
   "source": [
    "x = np.array([1, 2, 3, 4, 5])\n",
    "y = np.array([3, 4, 5, 6, 7])\n",
    "\n",
    "lr_model = Linear_regression(x, y, lr=0.01, max_epochs=500)\n",
    "lr_model.fit()"
   ]
  },
  {
   "cell_type": "code",
   "execution_count": null,
   "metadata": {},
   "outputs": [],
   "source": []
  },
  {
   "cell_type": "code",
   "execution_count": 7,
   "metadata": {},
   "outputs": [
    {
     "data": {
      "text/plain": [
       "array([ 8.55509647,  9.6762207 , 10.79734493])"
      ]
     },
     "execution_count": 7,
     "metadata": {},
     "output_type": "execute_result"
    }
   ],
   "source": [
    "lr_model.pridect(np.array([6, 7, 8]))"
   ]
  }
 ],
 "metadata": {
  "kernelspec": {
   "display_name": "evir",
   "language": "python",
   "name": "python3"
  },
  "language_info": {
   "codemirror_mode": {
    "name": "ipython",
    "version": 3
   },
   "file_extension": ".py",
   "mimetype": "text/x-python",
   "name": "python",
   "nbconvert_exporter": "python",
   "pygments_lexer": "ipython3",
   "version": "3.11.8"
  }
 },
 "nbformat": 4,
 "nbformat_minor": 2
}
